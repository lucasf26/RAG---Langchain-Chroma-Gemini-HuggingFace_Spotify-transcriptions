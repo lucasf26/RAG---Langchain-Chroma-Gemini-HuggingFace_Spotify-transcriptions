{
 "cells": [
  {
   "cell_type": "markdown",
   "metadata": {},
   "source": [
    "* https://docs.mistral.ai/guides/rag/#rag-from-scratch\n"
   ]
  },
  {
   "cell_type": "code",
   "execution_count": 72,
   "metadata": {},
   "outputs": [],
   "source": [
    "import requests\n",
    "import nltk\n",
    "import numpy as np\n",
    "import pandas as pd\n",
    "import langchain\n",
    "from langchain.text_splitter import RecursiveCharacterTextSplitter\n",
    "from langchain.schema import Document # Importing Document schema from Langchain\n",
    "from langchain_huggingface import HuggingFaceEmbeddings\n",
    "from langchain.vectorstores import Chroma\n",
    "import google.generativeai as genai\n",
    "from tqdm import tqdm"
   ]
  },
  {
   "cell_type": "markdown",
   "metadata": {},
   "source": [
    "## Veo el archivo de validación:"
   ]
  },
  {
   "cell_type": "code",
   "execution_count": 2,
   "metadata": {
    "scrolled": true
   },
   "outputs": [
    {
     "data": {
      "text/html": [
       "<div>\n",
       "<style scoped>\n",
       "    .dataframe tbody tr th:only-of-type {\n",
       "        vertical-align: middle;\n",
       "    }\n",
       "\n",
       "    .dataframe tbody tr th {\n",
       "        vertical-align: top;\n",
       "    }\n",
       "\n",
       "    .dataframe thead th {\n",
       "        text-align: right;\n",
       "    }\n",
       "</style>\n",
       "<table border=\"1\" class=\"dataframe\">\n",
       "  <thead>\n",
       "    <tr style=\"text-align: right;\">\n",
       "      <th></th>\n",
       "      <th>question</th>\n",
       "      <th>human_answer</th>\n",
       "      <th>ai_answer_without_the_transcript</th>\n",
       "      <th>ai_answer_without_transcript_correctness</th>\n",
       "      <th>ai_answer_with_the_transcript</th>\n",
       "      <th>ai_answer_with_the_transcript_correctness</th>\n",
       "      <th>quality_rating_for_answer_with_transcript</th>\n",
       "      <th>post_url</th>\n",
       "      <th>file_name</th>\n",
       "      <th>Unnamed: 9</th>\n",
       "    </tr>\n",
       "  </thead>\n",
       "  <tbody>\n",
       "    <tr>\n",
       "      <th>0</th>\n",
       "      <td>When did Airbnb go public, what was the price ...</td>\n",
       "      <td>December 9,2020 at $68 per share</td>\n",
       "      <td>Airbnb went public on December 10, 2020. The i...</td>\n",
       "      <td>CORRECT</td>\n",
       "      <td>Airbnb went public in 2020. However, the speci...</td>\n",
       "      <td>INCORRECT</td>\n",
       "      <td>4</td>\n",
       "      <td>https://www.acquired.fm/episodes/airbnb</td>\n",
       "      <td>airbnb</td>\n",
       "      <td>NaN</td>\n",
       "    </tr>\n",
       "    <tr>\n",
       "      <th>1</th>\n",
       "      <td>Why did Wimdu unlike Airbnb not take off?</td>\n",
       "      <td>Wimdu gragmented the marketed focusing mostly ...</td>\n",
       "      <td>Wimdu faced challenges compared to Airbnb due ...</td>\n",
       "      <td>CORRECT</td>\n",
       "      <td>Wimdu, similar to Airbnb, was a platform creat...</td>\n",
       "      <td>CORRECT</td>\n",
       "      <td>5</td>\n",
       "      <td>https://www.acquired.fm/episodes/airbnb</td>\n",
       "      <td>airbnb</td>\n",
       "      <td>NaN</td>\n",
       "    </tr>\n",
       "    <tr>\n",
       "      <th>2</th>\n",
       "      <td>Why does market fragmentation work for airline...</td>\n",
       "      <td>Even though both the airline industry and airb...</td>\n",
       "      <td>Market fragmentation benefits the airline indu...</td>\n",
       "      <td>CORRECT</td>\n",
       "      <td>Market fragmentation can work for the airline ...</td>\n",
       "      <td>CORRECT</td>\n",
       "      <td>3</td>\n",
       "      <td>https://www.acquired.fm/episodes/airbnb</td>\n",
       "      <td>airbnb</td>\n",
       "      <td>NaN</td>\n",
       "    </tr>\n",
       "    <tr>\n",
       "      <th>3</th>\n",
       "      <td>How many hot dogs does Costco currently sell p...</td>\n",
       "      <td>130 million</td>\n",
       "      <td>Costco sold just shy of 200 million hot dog an...</td>\n",
       "      <td>INCORRECT</td>\n",
       "      <td>Annual Hot Dog Sales: Costco sells 130 million...</td>\n",
       "      <td>CORRECT</td>\n",
       "      <td>5</td>\n",
       "      <td>https://www.acquired.fm/episodes/costco</td>\n",
       "      <td>costco</td>\n",
       "      <td>NaN</td>\n",
       "    </tr>\n",
       "    <tr>\n",
       "      <th>4</th>\n",
       "      <td>What store was created as \"the price club of h...</td>\n",
       "      <td>Home Depot</td>\n",
       "      <td>The store created as the \"price club of hardwa...</td>\n",
       "      <td>CORRECT</td>\n",
       "      <td>Store Created as \"the price club of hardware s...</td>\n",
       "      <td>CORRECT</td>\n",
       "      <td>5</td>\n",
       "      <td>https://www.acquired.fm/episodes/costco</td>\n",
       "      <td>costco</td>\n",
       "      <td>NaN</td>\n",
       "    </tr>\n",
       "  </tbody>\n",
       "</table>\n",
       "</div>"
      ],
      "text/plain": [
       "                                            question  \\\n",
       "0  When did Airbnb go public, what was the price ...   \n",
       "1          Why did Wimdu unlike Airbnb not take off?   \n",
       "2  Why does market fragmentation work for airline...   \n",
       "3  How many hot dogs does Costco currently sell p...   \n",
       "4  What store was created as \"the price club of h...   \n",
       "\n",
       "                                        human_answer  \\\n",
       "0                   December 9,2020 at $68 per share   \n",
       "1  Wimdu gragmented the marketed focusing mostly ...   \n",
       "2  Even though both the airline industry and airb...   \n",
       "3                                        130 million   \n",
       "4                                         Home Depot   \n",
       "\n",
       "                    ai_answer_without_the_transcript  \\\n",
       "0  Airbnb went public on December 10, 2020. The i...   \n",
       "1  Wimdu faced challenges compared to Airbnb due ...   \n",
       "2  Market fragmentation benefits the airline indu...   \n",
       "3  Costco sold just shy of 200 million hot dog an...   \n",
       "4  The store created as the \"price club of hardwa...   \n",
       "\n",
       "  ai_answer_without_transcript_correctness  \\\n",
       "0                                  CORRECT   \n",
       "1                                  CORRECT   \n",
       "2                                  CORRECT   \n",
       "3                                INCORRECT   \n",
       "4                                  CORRECT   \n",
       "\n",
       "                       ai_answer_with_the_transcript  \\\n",
       "0  Airbnb went public in 2020. However, the speci...   \n",
       "1  Wimdu, similar to Airbnb, was a platform creat...   \n",
       "2  Market fragmentation can work for the airline ...   \n",
       "3  Annual Hot Dog Sales: Costco sells 130 million...   \n",
       "4  Store Created as \"the price club of hardware s...   \n",
       "\n",
       "  ai_answer_with_the_transcript_correctness  \\\n",
       "0                                 INCORRECT   \n",
       "1                                   CORRECT   \n",
       "2                                   CORRECT   \n",
       "3                                   CORRECT   \n",
       "4                                   CORRECT   \n",
       "\n",
       "  quality_rating_for_answer_with_transcript  \\\n",
       "0                                         4   \n",
       "1                                         5   \n",
       "2                                         3   \n",
       "3                                         5   \n",
       "4                                         5   \n",
       "\n",
       "                                  post_url file_name Unnamed: 9  \n",
       "0  https://www.acquired.fm/episodes/airbnb    airbnb        NaN  \n",
       "1  https://www.acquired.fm/episodes/airbnb    airbnb        NaN  \n",
       "2  https://www.acquired.fm/episodes/airbnb    airbnb        NaN  \n",
       "3  https://www.acquired.fm/episodes/costco    costco        NaN  \n",
       "4  https://www.acquired.fm/episodes/costco    costco        NaN  "
      ]
     },
     "execution_count": 2,
     "metadata": {},
     "output_type": "execute_result"
    }
   ],
   "source": [
    "df_qa = pd.read_csv('acquired-qa-evaluation.csv')\n",
    "df_qa.head()"
   ]
  },
  {
   "cell_type": "code",
   "execution_count": 3,
   "metadata": {},
   "outputs": [
    {
     "data": {
      "text/plain": [
       "(80, 10)"
      ]
     },
     "execution_count": 3,
     "metadata": {},
     "output_type": "execute_result"
    }
   ],
   "source": [
    "df_qa.shape"
   ]
  },
  {
   "cell_type": "code",
   "execution_count": 4,
   "metadata": {},
   "outputs": [
    {
     "name": "stdout",
     "output_type": "stream",
     "text": [
      "<class 'pandas.core.frame.DataFrame'>\n",
      "RangeIndex: 80 entries, 0 to 79\n",
      "Data columns (total 10 columns):\n",
      " #   Column                                     Non-Null Count  Dtype \n",
      "---  ------                                     --------------  ----- \n",
      " 0   question                                   80 non-null     object\n",
      " 1   human_answer                               80 non-null     object\n",
      " 2   ai_answer_without_the_transcript           80 non-null     object\n",
      " 3   ai_answer_without_transcript_correctness   80 non-null     object\n",
      " 4   ai_answer_with_the_transcript              80 non-null     object\n",
      " 5   ai_answer_with_the_transcript_correctness  80 non-null     object\n",
      " 6   quality_rating_for_answer_with_transcript  80 non-null     object\n",
      " 7   post_url                                   80 non-null     object\n",
      " 8   file_name                                  80 non-null     object\n",
      " 9   Unnamed: 9                                 1 non-null      object\n",
      "dtypes: object(10)\n",
      "memory usage: 6.4+ KB\n"
     ]
    }
   ],
   "source": [
    "df_qa.info()"
   ]
  },
  {
   "cell_type": "code",
   "execution_count": 5,
   "metadata": {
    "scrolled": true
   },
   "outputs": [
    {
     "data": {
      "text/plain": [
       "file_name\n",
       "qualcomm                                                6\n",
       "enron                                                   5\n",
       "spacex                                                  5\n",
       "bitcoin                                                 4\n",
       "airbnb                                                  3\n",
       "costco                                                  3\n",
       "disney_plus                                             3\n",
       "whatsapp                                                3\n",
       "berkshire_hathaway_part_i                               3\n",
       "nvidia_part_iii_the_dawn_of_the_ai_era_20222023         3\n",
       "nvidia_part_ii_the_machine_learning_company_20062022    3\n",
       "ethereum_with_packy_mccormick                           3\n",
       "nvidia_part_i_the_gpu_company_19932006                  3\n",
       "walmart                                                 3\n",
       "renaissance_technologies                                3\n",
       "nintendos_origins                                       3\n",
       "visa                                                    3\n",
       "amazoncom                                               3\n",
       "lvmh                                                    3\n",
       "doordash                                                2\n",
       "peloton                                                 2\n",
       "porsche_with_doug_demuro                                2\n",
       "arena_show_part_ii_brooks_running_with_ceo_jim_weber    2\n",
       "amazon_web_services                                     2\n",
       "the_electronic_arts_ipo_with_trip_hawkins               2\n",
       "https://www.acquired.fm/episodes/doordash               1\n",
       "the_nba                                                 1\n",
       "ftx_with_sam_bankmanfried_mario_gabriele                1\n",
       "Name: count, dtype: int64"
      ]
     },
     "execution_count": 5,
     "metadata": {},
     "output_type": "execute_result"
    }
   ],
   "source": [
    "df_qa.file_name.value_counts()"
   ]
  },
  {
   "cell_type": "markdown",
   "metadata": {},
   "source": [
    "Son muchos archivos, así que me quedo solamente con los primeros 5 file_names:"
   ]
  },
  {
   "cell_type": "code",
   "execution_count": 6,
   "metadata": {},
   "outputs": [
    {
     "data": {
      "text/plain": [
       "23"
      ]
     },
     "execution_count": 6,
     "metadata": {},
     "output_type": "execute_result"
    }
   ],
   "source": [
    "file_names = ['qualcomm','enron','spacex','bitcoin','airbnb']\n",
    "df_qa.file_name.isin(file_names).sum()"
   ]
  },
  {
   "cell_type": "markdown",
   "metadata": {},
   "source": [
    "Creo un nuevo dataframe df_qf donde me quedo solamente con los datos correspondiente a estos 5 file_names:"
   ]
  },
  {
   "cell_type": "code",
   "execution_count": 7,
   "metadata": {},
   "outputs": [
    {
     "data": {
      "text/html": [
       "<div>\n",
       "<style scoped>\n",
       "    .dataframe tbody tr th:only-of-type {\n",
       "        vertical-align: middle;\n",
       "    }\n",
       "\n",
       "    .dataframe tbody tr th {\n",
       "        vertical-align: top;\n",
       "    }\n",
       "\n",
       "    .dataframe thead th {\n",
       "        text-align: right;\n",
       "    }\n",
       "</style>\n",
       "<table border=\"1\" class=\"dataframe\">\n",
       "  <thead>\n",
       "    <tr style=\"text-align: right;\">\n",
       "      <th></th>\n",
       "      <th>question</th>\n",
       "      <th>file_name</th>\n",
       "      <th>human_answer</th>\n",
       "    </tr>\n",
       "  </thead>\n",
       "  <tbody>\n",
       "    <tr>\n",
       "      <th>0</th>\n",
       "      <td>When did Airbnb go public, what was the price ...</td>\n",
       "      <td>airbnb</td>\n",
       "      <td>December 9,2020 at $68 per share</td>\n",
       "    </tr>\n",
       "    <tr>\n",
       "      <th>1</th>\n",
       "      <td>Why did Wimdu unlike Airbnb not take off?</td>\n",
       "      <td>airbnb</td>\n",
       "      <td>Wimdu gragmented the marketed focusing mostly ...</td>\n",
       "    </tr>\n",
       "    <tr>\n",
       "      <th>2</th>\n",
       "      <td>Why does market fragmentation work for airline...</td>\n",
       "      <td>airbnb</td>\n",
       "      <td>Even though both the airline industry and airb...</td>\n",
       "    </tr>\n",
       "    <tr>\n",
       "      <th>9</th>\n",
       "      <td>According to Information Theory, what is the i...</td>\n",
       "      <td>qualcomm</td>\n",
       "      <td>The more closely the actual communication is t...</td>\n",
       "    </tr>\n",
       "    <tr>\n",
       "      <th>10</th>\n",
       "      <td>Compare the impact on Qualcomm between the two...</td>\n",
       "      <td>qualcomm</td>\n",
       "      <td>Erwin Jacobs was a genius and visionary who pa...</td>\n",
       "    </tr>\n",
       "  </tbody>\n",
       "</table>\n",
       "</div>"
      ],
      "text/plain": [
       "                                             question file_name  \\\n",
       "0   When did Airbnb go public, what was the price ...    airbnb   \n",
       "1           Why did Wimdu unlike Airbnb not take off?    airbnb   \n",
       "2   Why does market fragmentation work for airline...    airbnb   \n",
       "9   According to Information Theory, what is the i...  qualcomm   \n",
       "10  Compare the impact on Qualcomm between the two...  qualcomm   \n",
       "\n",
       "                                         human_answer  \n",
       "0                    December 9,2020 at $68 per share  \n",
       "1   Wimdu gragmented the marketed focusing mostly ...  \n",
       "2   Even though both the airline industry and airb...  \n",
       "9   The more closely the actual communication is t...  \n",
       "10  Erwin Jacobs was a genius and visionary who pa...  "
      ]
     },
     "execution_count": 7,
     "metadata": {},
     "output_type": "execute_result"
    }
   ],
   "source": [
    "df_qf = df_qa[['question','file_name','human_answer']][df_qa.file_name.isin(file_names)]\n",
    "df_qf.head()"
   ]
  },
  {
   "cell_type": "code",
   "execution_count": 54,
   "metadata": {},
   "outputs": [
    {
     "data": {
      "text/plain": [
       "5"
      ]
     },
     "execution_count": 54,
     "metadata": {},
     "output_type": "execute_result"
    }
   ],
   "source": [
    "len(file_names)"
   ]
  },
  {
   "cell_type": "markdown",
   "metadata": {},
   "source": [
    "Tengo 5 archivos con 29 preguntas, con sus respectivas respuestas \"correctas\": respuesta humana 'human_answer' y los nombres de los archivos donde se encuentran las respuestas 'file_name'. Con estos dos datos voy a testear mi RAG. A partir de las preguntas testeo si el RAG: \n",
    "* busca la respuesta en el archivo correcto.\n",
    "* la distancia coseno entre la respuesta humana y la del LLM."
   ]
  },
  {
   "cell_type": "markdown",
   "metadata": {},
   "source": [
    "## Ahora leo las transcripciones individuales y las spliteo"
   ]
  },
  {
   "cell_type": "code",
   "execution_count": 10,
   "metadata": {
    "scrolled": true
   },
   "outputs": [
    {
     "data": {
      "text/plain": [
       "5"
      ]
     },
     "execution_count": 10,
     "metadata": {},
     "output_type": "execute_result"
    }
   ],
   "source": [
    "PATH = \"acquired-individual-transcripts/\"\n",
    "\n",
    "docs = []\n",
    "\n",
    "for file_name in file_names:\n",
    "    with open(PATH+file_name+'.txt','r') as file:\n",
    "        text = file.read()\n",
    "        doc =  Document(page_content=text[113:], metadata={\"source\": file_name})\n",
    "        docs.append(doc)\n",
    "\n",
    "len(docs)"
   ]
  },
  {
   "cell_type": "code",
   "execution_count": 25,
   "metadata": {},
   "outputs": [
    {
     "name": "stdout",
     "output_type": "stream",
     "text": [
      "Split 5 documents into 886 chunks.\n"
     ]
    }
   ],
   "source": [
    "text_splitter = RecursiveCharacterTextSplitter(chunk_size=1000, chunk_overlap=100)\n",
    "chunks = text_splitter.split_documents(docs)\n",
    "print(f\"Split {len(docs)} documents into {len(chunks)} chunks.\")"
   ]
  },
  {
   "cell_type": "code",
   "execution_count": 69,
   "metadata": {},
   "outputs": [
    {
     "data": {
      "text/plain": [
       "Document(metadata={'source': 'airbnb'}, page_content=\"Ben: Welcome to season 7, episode 8, the season finale of Acquired, the podcast about great technology companies, and the stories and playbooks behind them. I'm Ben Gilbert and I'm the co-founder of Pioneer Square Labs, a startup studio and venture capital firm in Seattle. David: And I'm David Rosenthal and I am an angel investor and startup advisor based in San Francisco. Ben: We are your hosts. Today, we cover the hottest and most anticipated company to IPO in 2020. Oddly, in a year marred by the global pandemic and just this month an all-time high number of stay-at-home orders, this hot IPO is a travel company. Airbnb—originally known as AirBed and Breakfast Incorporate—is going public today raising over $3.5 billion, and initially valued at over $47 billion. The company is insanely impressive. They operate in 220 countries and 100,000 cities. Last year, there were $38 billion of bookings made on the platform. There are over 50 million active guests who book nights to stay at over\")"
      ]
     },
     "execution_count": 69,
     "metadata": {},
     "output_type": "execute_result"
    }
   ],
   "source": [
    "chunks[0]"
   ]
  },
  {
   "cell_type": "markdown",
   "metadata": {},
   "source": [
    "## Creo la base de datos con los chunks y embeddings"
   ]
  },
  {
   "cell_type": "code",
   "execution_count": 71,
   "metadata": {},
   "outputs": [],
   "source": [
    "# cargo los embeddings en local\n",
    "model_name = \"/home/lucas/Documentos/Lucas/ML/embeddings/Sentence Transformers/\"\n",
    "model_kwargs = {'device': 'cpu'}\n",
    "encode_kwargs = {'normalize_embeddings': True}\n",
    "embeddings = HuggingFaceEmbeddings(model_name=model_name,model_kwargs=model_kwargs,encode_kwargs=encode_kwargs)"
   ]
  },
  {
   "cell_type": "code",
   "execution_count": 37,
   "metadata": {},
   "outputs": [],
   "source": [
    "# creo la base de datos Chroma con los documentos y embeddings\n",
    "db = Chroma.from_documents(collection_name='chroma_lc_rag',documents=chunks, embedding=embeddings, persist_directory='chroma_db')"
   ]
  },
  {
   "cell_type": "code",
   "execution_count": 64,
   "metadata": {},
   "outputs": [
    {
     "data": {
      "text/plain": [
       "\"this is their charter, so he makes a $100,000 donation to The Mars Society. He joins the board and he starts meeting all of these aerospace people in LA. Not just in LA, of course back up in Silicon Valley there's NASA's Jet Propulsion Lab in Mountain View. \\xa0 Elon's mostly down in LA but he's going back and forth. He starts organizing these “Saturday salons,” he calls them, where he's just getting together industry leaders in aerospace and at JPL, both in LA and Palo Alto. There's no agenda, but he lets it be known to all of them that he's got some resources. He's a dot-com-rich guy and he wants to make a gesture. What could be done on the order of $10–$20 million.  They start to coalesce the group on this idea of building a “Mars Oasis” and the idea behind a Mars Oasis is that they're going to buy a rocket, and they're going to put a plant on it, and they're also going to put a robot on it, and they're going to shoot this rocket to mars. I can't remember if the Mars Rover had landed\""
      ]
     },
     "execution_count": 64,
     "metadata": {},
     "output_type": "execute_result"
    }
   ],
   "source": [
    "# pruebo que la base de datos funciona bien\n",
    "question = 'what is the idea about mars oasis'\n",
    "sim = db.similarity_search(question, k=1)\n",
    "sim[0].page_content"
   ]
  },
  {
   "cell_type": "markdown",
   "metadata": {},
   "source": [
    "## Función para consultar:"
   ]
  },
  {
   "cell_type": "code",
   "execution_count": 55,
   "metadata": {},
   "outputs": [],
   "source": [
    "# configuro la api de gemini\n",
    "genai.configure(api_key=GOOGLE_API_KEY)\n",
    "gemini = genai.GenerativeModel('gemini-1.5-flash')"
   ]
  },
  {
   "cell_type": "code",
   "execution_count": 62,
   "metadata": {},
   "outputs": [],
   "source": [
    "# creo función para hacer consultas a la api de gemini\n",
    "def consulta(question):\n",
    "    sim = db.similarity_search(question, k=1)\n",
    "    retrieved_chunk = sim[0]\n",
    "    \n",
    "    prompt = f\"\"\"\n",
    "    Given the context information and not prior knowledge, answer the query.\n",
    "    Context information:\n",
    "    ---------------------\n",
    "    {retrieved_chunk.page_content}\n",
    "    ---------------------\n",
    "    Query: {question}\n",
    "    Answer:\n",
    "    \"\"\"\n",
    "    \n",
    "    model = genai.GenerativeModel('gemini-1.5-pro')\n",
    "    response = model.generate_content(prompt)\n",
    "    \n",
    "    return retrieved_chunk, response.text"
   ]
  },
  {
   "cell_type": "markdown",
   "metadata": {},
   "source": [
    "Y la uso para hacer una nueva pregunta:"
   ]
  },
  {
   "cell_type": "code",
   "execution_count": 63,
   "metadata": {},
   "outputs": [
    {
     "name": "stdout",
     "output_type": "stream",
     "text": [
      "question:  what is the idea about mars oasis\n",
      "------\n",
      "response:  The Mars Oasis idea involves buying a rocket, putting a plant and a robot on it, and sending it to Mars.\n",
      "\n",
      "chunk_source:  spacex\n",
      "check real chunk_source:  spacex\n"
     ]
    }
   ],
   "source": [
    "question_number=9\n",
    "question = df_qf['question'].iloc[question_number]\n",
    "print('question: ',question)\n",
    "print('------')\n",
    "chunk, response = consulta(question)\n",
    "print('response: ',response)\n",
    "print('chunk_source: ',chunk.metadata['source'])\n",
    "print('check real chunk_source: ',df_qf['file_name'].iloc[question_number])"
   ]
  }
 ],
 "metadata": {
  "kernelspec": {
   "display_name": "NLP-conda_env",
   "language": "python",
   "name": "nlp"
  },
  "language_info": {
   "codemirror_mode": {
    "name": "ipython",
    "version": 3
   },
   "file_extension": ".py",
   "mimetype": "text/x-python",
   "name": "python",
   "nbconvert_exporter": "python",
   "pygments_lexer": "ipython3",
   "version": "3.12.2"
  }
 },
 "nbformat": 4,
 "nbformat_minor": 4
}
